{
 "cells": [
  {
   "cell_type": "markdown",
   "id": "7bf3c5f1",
   "metadata": {},
   "source": [
    "# Core Functionality (Required)\n",
    "## 1. Resume Ingestion and Processing\n",
    "- Index multiple resumes: Ingest and process multiple resume files (PDF and plain text).\n",
    "- Parse content: Extract text from resumes.\n",
    "- Chunk text: Split parsed text into meaningful chunks (100–500 tokens with overlap).\n",
    "- Generate embeddings: Produce vector embeddings for each chunk using a free-tier\n",
    "model."
   ]
  },
  {
   "cell_type": "code",
   "execution_count": 1,
   "id": "8794dbfa",
   "metadata": {},
   "outputs": [
    {
     "name": "stdout",
     "output_type": "stream",
     "text": [
      "Hello :D\n"
     ]
    }
   ],
   "source": [
    "print(\"Hello :D\")"
   ]
  },
  {
   "cell_type": "markdown",
   "id": "93bb9d43",
   "metadata": {},
   "source": [
    "## 2. Vector Database Integration\n",
    "- Store embeddings: Save generated embeddings in a vector database.\n",
    "- Efficient retrieval: Implement top‑K similarity search for queries."
   ]
  },
  {
   "cell_type": "code",
   "execution_count": 2,
   "id": "2f14d16e",
   "metadata": {},
   "outputs": [
    {
     "name": "stdout",
     "output_type": "stream",
     "text": [
      "Hello :D\n"
     ]
    }
   ],
   "source": [
    "print(\"Hello :D\")"
   ]
  },
  {
   "cell_type": "markdown",
   "id": "dbc76534",
   "metadata": {},
   "source": [
    "## 3. Retrieval-Augmented Generation (RAG) Chatbot\n",
    "- Job description input: Accept a text description of the job role.\n",
    "- Retrieve relevant chunks: Perform vector search to find top resume chunks.\n",
    "- LLM-based matching: Use an LLM to generate conversational answers about\n",
    "candidate fit, citing retrieved content.\n",
    "- Conversational interface: Support follow-up questions for deeper insights."
   ]
  },
  {
   "cell_type": "code",
   "execution_count": 3,
   "id": "8eb0e089",
   "metadata": {},
   "outputs": [
    {
     "name": "stdout",
     "output_type": "stream",
     "text": [
      "Hello :D\n"
     ]
    }
   ],
   "source": [
    "print(\"Hello :D\")"
   ]
  },
  {
   "cell_type": "markdown",
   "id": "316d1dc4",
   "metadata": {},
   "source": [
    "# Optional Bonus Features\n",
    "## A. Web User Interface\n",
    "- Frontend (Bonus): Implement a simple web UI for file upload, job description entry, and\n",
    "chat interaction.\n",
    "- Tech Stack: Next.js with TypeScript\n",
    "- Hosting: Vercel (Hobby/Free Tier)"
   ]
  },
  {
   "cell_type": "code",
   "execution_count": 4,
   "id": "809e7167",
   "metadata": {},
   "outputs": [
    {
     "name": "stdout",
     "output_type": "stream",
     "text": [
      "Hello :D\n"
     ]
    }
   ],
   "source": [
    "print(\"Hello :D\")"
   ]
  },
  {
   "cell_type": "markdown",
   "id": "3196e4ec",
   "metadata": {},
   "source": [
    "## B. SQL-Based Metadata Search\n",
    "- Extract metadata: Tag resumes with structured metadata (skills, titles, experience).\n",
    "- Metadata storage: Save tags in a relational database (e.g., PostgreSQL alongside\n",
    "vector store).\n",
    "- Metadata API: Expose an endpoint for SQL queries (e.g., SELECT * FROM\n",
    "resume_metadata WHERE skills @> ARRAY['TypeScript'] AND\n",
    "years_experience >= 5)."
   ]
  },
  {
   "cell_type": "code",
   "execution_count": 5,
   "id": "9f34a500",
   "metadata": {},
   "outputs": [
    {
     "name": "stdout",
     "output_type": "stream",
     "text": [
      "Hello :D\n"
     ]
    }
   ],
   "source": [
    "print(\"Hello :D\")"
   ]
  },
  {
   "cell_type": "code",
   "execution_count": null,
   "id": "8378c859",
   "metadata": {},
   "outputs": [],
   "source": []
  }
 ],
 "metadata": {
  "kernelspec": {
   "display_name": ".venv",
   "language": "python",
   "name": "python3"
  },
  "language_info": {
   "codemirror_mode": {
    "name": "ipython",
    "version": 3
   },
   "file_extension": ".py",
   "mimetype": "text/x-python",
   "name": "python",
   "nbconvert_exporter": "python",
   "pygments_lexer": "ipython3",
   "version": "3.11.9"
  }
 },
 "nbformat": 4,
 "nbformat_minor": 5
}
