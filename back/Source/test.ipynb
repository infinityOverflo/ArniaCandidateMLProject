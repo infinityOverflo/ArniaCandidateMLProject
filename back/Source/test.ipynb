{
 "cells": [
  {
   "cell_type": "code",
   "execution_count": 2,
   "id": "dc4a0c29",
   "metadata": {},
   "outputs": [],
   "source": [
    "from abc import ABC, abstractmethod\n",
    "\n",
    "from multiprocessing import Pool\n",
    "\n",
    "from enum import Enum\n",
    "from pathlib import Path\n",
    "import shutil\n",
    "import requests\n",
    "import json\n",
    "\n",
    "import pypdf\n",
    "from kaggle.api.kaggle_api_extended import KaggleApi\n",
    "import kagglehub\n",
    "\n",
    "import ollama"
   ]
  },
  {
   "cell_type": "code",
   "execution_count": 3,
   "id": "b89b1d4f",
   "metadata": {},
   "outputs": [],
   "source": [
    "kg_api = KaggleApi()\n",
    "kg_api.authenticate()"
   ]
  },
  {
   "cell_type": "code",
   "execution_count": 4,
   "id": "4e4826c4",
   "metadata": {},
   "outputs": [],
   "source": [
    "DatasetSavePath = Path(\"../Datasets/Source1/raw/data\")"
   ]
  },
  {
   "cell_type": "code",
   "execution_count": 5,
   "id": "8df5fffd",
   "metadata": {},
   "outputs": [],
   "source": [
    "# DatasetTempPath = kagglehub.dataset_download(\"snehaanbhawal/resume-dataset\")\n",
    "# shutil.move(DatasetTempPath, DatasetSavePath)"
   ]
  },
  {
   "cell_type": "markdown",
   "id": "7bf3c5f1",
   "metadata": {},
   "source": [
    "# Core Functionality (Required)\n",
    "## 1. Resume Ingestion and Processing\n",
    "- Index multiple resumes: Ingest and process multiple resume files (PDF and plain text).\n",
    "- Parse content: Extract text from resumes.\n",
    "- Chunk text: Split parsed text into meaningful chunks (100–500 tokens with overlap).\n",
    "- Generate embeddings: Produce vector embeddings for each chunk using a free-tier\n",
    "model."
   ]
  },
  {
   "cell_type": "code",
   "execution_count": 6,
   "id": "1113ceaa",
   "metadata": {},
   "outputs": [],
   "source": [
    "datasetPath = DatasetSavePath"
   ]
  },
  {
   "cell_type": "code",
   "execution_count": 7,
   "id": "133f45aa",
   "metadata": {},
   "outputs": [],
   "source": [
    "class FileType(Enum):\n",
    "    NAF = 0\n",
    "    TXT = 1\n",
    "    PDF = 2"
   ]
  },
  {
   "cell_type": "code",
   "execution_count": 8,
   "id": "686d97d4",
   "metadata": {},
   "outputs": [],
   "source": [
    "type_suffix_conversion = {\n",
    "    FileType.NAF: \"\",\n",
    "    FileType.TXT: \".txt\",\n",
    "    FileType.PDF: \".pdf\",\n",
    "}\n",
    "# To convert from suffix to FileType (excluding empty string):\n",
    "suffix_type_conversion = {v: k for k, v in type_suffix_conversion.items() if v}"
   ]
  },
  {
   "cell_type": "code",
   "execution_count": 9,
   "id": "448c0161",
   "metadata": {},
   "outputs": [],
   "source": [
    "class Chunk:\n",
    "    def __init__(self, content: str = \"\"):\n",
    "        self.content: str = content\n",
    "        self.embeddings: list[float] = []\n",
    "\n",
    "    def set_content(self, content: str) -> None:\n",
    "        self.content = content\n",
    "    def set_embeddings(self, embeddings: list[float]) -> None:\n",
    "        self.embeddings = embeddings\n",
    "\n",
    "    def get_content(self) -> str:\n",
    "        return self.content\n",
    "    def get_embeddings(self) -> list[float]:\n",
    "        return self.embeddings"
   ]
  },
  {
   "cell_type": "code",
   "execution_count": 10,
   "id": "0e6227e4",
   "metadata": {},
   "outputs": [],
   "source": [
    "class Chunks:\n",
    "    def __init__(self, chunks: list[Chunk] = None):\n",
    "        self.chunks: list[Chunk] = chunks if chunks is not None else []\n",
    "\n",
    "    def add_chunk(self, chunk: Chunk) -> None:\n",
    "        self.chunks.append(chunk)\n",
    "\n",
    "    def get_chunks(self) -> list[Chunk]:\n",
    "        return self.chunks\n",
    "\n",
    "    def get_chunks_contents(self) -> list[str]:\n",
    "        return [chunk.get_content() for chunk in self.chunks]\n",
    "    \n",
    "    def get_chunks_embeddings(self) -> list[list[float]]:\n",
    "        return [chunk.get_embeddings() for chunk in self.chunks]"
   ]
  },
  {
   "cell_type": "code",
   "execution_count": 11,
   "id": "cf388808",
   "metadata": {},
   "outputs": [],
   "source": [
    "class File:\n",
    "    def __init__(self, file_path: Path) -> None:\n",
    "        self.file_path = file_path\n",
    "        self.content: str = \"\"\n",
    "        self.chunks: list[Chunk] = []\n",
    "\n",
    "    def __getitem__(self, idx: int) -> str:\n",
    "        if idx >= len(self.content):\n",
    "            raise IndexError(\"Index out of range\")\n",
    "        return self.content[idx]\n",
    "    \n",
    "    def __len__(self) -> int:\n",
    "        return len(self.content)\n",
    "    \n",
    "    def __iter__(self):\n",
    "        return iter(self.content)"
   ]
  },
  {
   "cell_type": "code",
   "execution_count": 12,
   "id": "a6c0db7a",
   "metadata": {},
   "outputs": [],
   "source": [
    "class Files:\n",
    "    def __init__(self, files_type: FileType = FileType.NAF) -> None:\n",
    "        self.files_type: FileType = files_type\n",
    "        self.files: list[File] = []\n",
    "        \n",
    "    def __getitem__(self, index: int) -> File:\n",
    "        return self.files[index]\n",
    "    \n",
    "    def __len__(self) -> int:\n",
    "        return len(self.files)\n",
    "    \n",
    "    def __iter__(self):\n",
    "        return iter(self.files)\n",
    "    \n",
    "    def get_type(self) -> FileType:\n",
    "        return self.files_type\n",
    "    \n",
    "    def get_file(self, index: int) -> File:\n",
    "        return self.files[index]\n",
    "    \n",
    "    def get_files(self) -> list[File]:\n",
    "        return self.files\n",
    "    \n",
    "    def add_file(self, file: File) -> None:\n",
    "        self.files.append(file)\n",
    "\n",
    "    def add_files(self, files: list[File]) -> None:\n",
    "        self.files.extend(files)\n",
    "\n",
    "    "
   ]
  },
  {
   "cell_type": "code",
   "execution_count": 13,
   "id": "d27430bb",
   "metadata": {},
   "outputs": [],
   "source": [
    "class AbstractReaderType(ABC):\n",
    "    @abstractmethod\n",
    "    def get_type(self) -> FileType:\n",
    "        raise NotImplementedError(\"This method should be overridden by subclasses\")\n",
    "    @abstractmethod\n",
    "    def read_files(self) -> Files:\n",
    "        raise NotImplementedError(\"This method should be overridden by subclasses\")\n",
    "    \n",
    "class ReadPdf(AbstractReaderType):\n",
    "    def __init__(self) -> None:\n",
    "        self.files: Files = Files(FileType.PDF)\n",
    "\n",
    "    def get_type(self) -> FileType:\n",
    "        return FileType.PDF\n",
    "    \n",
    "    def read_files(self, path: Path) -> Files:\n",
    "        self.files = Files(FileType.PDF)\n",
    "        for pdf_file in path.iterdir():\n",
    "            if pdf_file.is_file() and pdf_file.suffix == type_suffix_conversion[FileType.PDF]:\n",
    "                reader = pypdf.PdfReader(pdf_file)\n",
    "                text = \"\"\n",
    "                for page in reader.pages:\n",
    "                    text += page.extract_text() + \"\\n\"\n",
    "            if text:\n",
    "                file = File(pdf_file)\n",
    "                file.content = text\n",
    "                self.files.add_file(file)\n",
    "        return self.files\n",
    "\n",
    "class Reader:\n",
    "    def __init__(self, dir_path: Path, Reader: AbstractReaderType) -> None:\n",
    "            self.dir_path = dir_path\n",
    "            self.reader = Reader\n",
    "\n",
    "            self.content: dict[str, Files] = {}\n",
    "\n",
    "    def read_files(self) -> None:\n",
    "        for child_dir in self.dir_path.iterdir():\n",
    "            # print(f\"Reading files in directory: {child_dir.name}\")\n",
    "            if child_dir.is_file():\n",
    "                continue\n",
    "            self.content[child_dir.name] = self.reader.read_files(child_dir)\n",
    "\n",
    "    def get_content(self) -> dict[str, Files]:\n",
    "        return self.content"
   ]
  },
  {
   "cell_type": "code",
   "execution_count": 14,
   "id": "438ee760",
   "metadata": {},
   "outputs": [],
   "source": [
    "read_pdf = Reader(dir_path=datasetPath, Reader=ReadPdf())\n",
    "read_pdf.read_files()\n",
    "files = read_pdf.get_content()"
   ]
  },
  {
   "cell_type": "code",
   "execution_count": 15,
   "id": "93c38d0e",
   "metadata": {},
   "outputs": [],
   "source": [
    "# for key in files.keys():\n",
    "#     print(f\"Files in {key}: length={len(files[key])}\")"
   ]
  },
  {
   "cell_type": "code",
   "execution_count": 16,
   "id": "49fbb3b4",
   "metadata": {},
   "outputs": [],
   "source": [
    "# def save_texts_to_files(texts: dict[FileType, files:Files], out_dir: Path) -> None:\n",
    "#     output_dir = out_dir\n",
    "#     output_dir.mkdir(parents=True, exist_ok=True)\n",
    "#     for file_type, text_list in texts.items():\n",
    "#         suffix = type_suffix_conversion[file_type]\n",
    "#         for idx, text in enumerate(text_list):\n",
    "#             file_name = f\"{file_type.name.lower()}_{idx}{suffix}\"\n",
    "#             with open(output_dir / file_name, \"w\", encoding=\"utf-8\") as f:\n",
    "#                 f.write(text)"
   ]
  },
  {
   "cell_type": "code",
   "execution_count": 17,
   "id": "e54a59ee",
   "metadata": {},
   "outputs": [],
   "source": [
    "# def save_files_dict_to_disk(files_dict: dict[str, Files], out_dir: Path) -> None:\n",
    "# \tout_dir.mkdir(parents=True, exist_ok=True)\n",
    "# \tfor dir_name, files_obj in files_dict.items():\n",
    "# \t\tdir = (out_dir / dir_name.lower())\n",
    "# \t\tdir.mkdir(parents=True, exist_ok=True)\n",
    "# \t\t# print(f\"Saving files in directory: {dir_name}\")\n",
    "\t\t\n",
    "# \t\tfor idx, file in enumerate(files_obj.get_files()):\n",
    "# \t\t\tfile_name = f\"{dir_name.lower()}_{idx}.txt\"\n",
    "# \t\t\twith open(dir / file_name, \"w\", encoding=\"utf-8\") as f:\n",
    "# \t\t\t\tf.write(file.content)\n",
    "\n",
    "# save_files_dict_to_disk(files, Path(\"../Datasets/Source1/processed\"))"
   ]
  },
  {
   "cell_type": "code",
   "execution_count": 18,
   "id": "a2223e27",
   "metadata": {},
   "outputs": [],
   "source": [
    "# def read_txt_files(texts_dir_path: Path) -> list[str]:\n",
    "#     texts = []\n",
    "#     for dir in texts_dir_path.iterdir():\n",
    "#         for file in dir.glob(\"*.txt\"):\n",
    "#             with open(file, \"r\", encoding=\"utf-8\") as f:\n",
    "#                 texts.append(f.read())\n",
    "#     return texts"
   ]
  },
  {
   "cell_type": "code",
   "execution_count": 19,
   "id": "abe0641e",
   "metadata": {},
   "outputs": [],
   "source": [
    "# textsPath = Path(\"../Datasets/Source1/processed\")\n",
    "# texts = read_txt_files(textsPath)"
   ]
  },
  {
   "cell_type": "code",
   "execution_count": 26,
   "id": "bd104e1a",
   "metadata": {},
   "outputs": [],
   "source": [
    "chunks_dict = {}"
   ]
  },
  {
   "cell_type": "code",
   "execution_count": 27,
   "id": "de93589d",
   "metadata": {},
   "outputs": [],
   "source": [
    "def chunk_sliding_window(text: str, window_size: int = 150, step_size: int = 100) -> Chunks:\n",
    "    chunks =  Chunks(\n",
    "        [Chunk(text[i:i + window_size]) for i in range(0, len(text), step_size) if i + window_size <= len(text)]\n",
    "    )\n",
    "    if len(text) > 0 and (len(text) - window_size) % step_size != 0 and (len(text) - 1) % step_size != 0:\n",
    "        last_start = ((len(text) - 1) // step_size) * step_size\n",
    "        if last_start < len(text) - 1:\n",
    "            chunks.add_chunk(Chunk(text[last_start:]))\n",
    "    return chunks"
   ]
  },
  {
   "cell_type": "code",
   "execution_count": 28,
   "id": "c1978e80",
   "metadata": {},
   "outputs": [],
   "source": [
    "def chunk_texts(files_dict: dict[str, Files]) -> dict[str, list[Chunks]]:\n",
    "    window_size = 150\n",
    "    step_size = 100\n",
    "    chunks_dict: dict[str, list[Chunks]] = {}\n",
    "    \n",
    "    for key in files_dict.keys():\n",
    "        chunks_dict[key] = []\n",
    "        files_with_key = files_dict[key]\n",
    "        for file in files_with_key.get_files():\n",
    "            text = file.content\n",
    "            chunks = chunk_sliding_window(text, window_size, step_size)\n",
    "            chunks_dict[key].append(chunks)\n",
    "    return chunks_dict"
   ]
  },
  {
   "cell_type": "code",
   "execution_count": 29,
   "id": "c1eca708",
   "metadata": {},
   "outputs": [
    {
     "name": "stdout",
     "output_type": "stream",
     "text": [
      "<class 'dict'>\n"
     ]
    }
   ],
   "source": [
    "listed_chunked_texts = chunk_texts(files)\n",
    "print(type(listed_chunked_texts))"
   ]
  },
  {
   "cell_type": "code",
   "execution_count": 30,
   "id": "9e5cdf1a",
   "metadata": {},
   "outputs": [
    {
     "name": "stdout",
     "output_type": "stream",
     "text": [
      "Key: ACCOUNTANT\n",
      "Key: ADVOCATE\n",
      "Key: AGRICULTURE\n",
      "Key: APPAREL\n",
      "Key: ARTS\n",
      "Key: AUTOMOBILE\n",
      "Key: AVIATION\n",
      "Key: BANKING\n",
      "Key: BPO\n",
      "Key: BUSINESS-DEVELOPMENT\n",
      "Key: CHEF\n",
      "Key: CONSTRUCTION\n",
      "Key: CONSULTANT\n",
      "Key: DESIGNER\n",
      "Key: DIGITAL-MEDIA\n",
      "Key: ENGINEERING\n",
      "Key: FINANCE\n",
      "Key: FITNESS\n",
      "Key: HEALTHCARE\n",
      "Key: HR\n",
      "Key: INFORMATION-TECHNOLOGY\n",
      "Key: PUBLIC-RELATIONS\n",
      "Key: SALES\n",
      "Key: TEACHER\n"
     ]
    }
   ],
   "source": [
    "for key in listed_chunked_texts.keys():\n",
    "    print(f\"Key: {key}\")"
   ]
  },
  {
   "cell_type": "code",
   "execution_count": 31,
   "id": "fe6f165c",
   "metadata": {},
   "outputs": [
    {
     "name": "stdout",
     "output_type": "stream",
     "text": [
      "['ACCOUNTANT\\nSummary\\nFinancial Accountant specializing in financial planning, reporting and analysis within the Department of Defense.\\nHighlights\\nAccoun', 'ithin the Department of Defense.\\nHighlights\\nAccount reconciliations\\nResults-oriented\\nFinancial reporting\\nCritical thinking\\nAccounting operations profe', 'ting\\nCritical thinking\\nAccounting operations professional\\nAnalysis of financial systems\\nERP (Enterprise Resource Planning) software.\\nExcellent facilit', 'ise Resource Planning) software.\\nExcellent facilitator\\nAccomplishments\\nServed on a tiger team which identified and resolved General Ledger postings in', 'identified and resolved General Ledger postings in DEAMS totaling $360B in accounting adjustments. This allowed\\nfor the first successful fiscal year-e', 'his allowed\\nfor the first successful fiscal year-end close for 2012.\\nIn collaboration with DFAS Europe, developed an automated tool that identified du', 'pe, developed an automated tool that identified duplicate obligations. This tool allowed HQ USAFE to\\ndeobligate over $5M in duplicate obligations.\\nExp', '\\ndeobligate over $5M in duplicate obligations.\\nExperience\\nCompany Name\\n \\nJuly 2011\\n \\nto \\nNovember 2012\\n \\nAccountant\\n \\nCity\\n \\n, \\nState\\nEnterprise Resou', '12\\n \\nAccountant\\n \\nCity\\n \\n, \\nState\\nEnterprise Resource Planning Office (ERO)\\nIn this position as an Accountant assigned to the Defense Enterprise Accou', 'ccountant assigned to the Defense Enterprise Accounting and Management System (DEAMS) ERO I was\\nresponsible for identifying and resolving issues affec', 'onsible for identifying and resolving issues affecting the DEAMS General Ledger.\\nI worked with teammates from the Procure to Pay, Orders to Cash, and ', 'ates from the Procure to Pay, Orders to Cash, and Budget to Report areas to resolve daily challenges encountered\\nwith the deployment of DEAMS to addit', ' encountered\\nwith the deployment of DEAMS to additional customers and when system change requests were promoted to production.\\nI supported the testing', 're promoted to production.\\nI supported the testing of scripts, patches, and system change requests ensuring any anomalies were identified to the DEAMS', 'nsuring any anomalies were identified to the DEAMS Functional\\nManagement Office for action by the DEAMS Program Management Office and/or the System In', 'AMS Program Management Office and/or the System Integrator.\\nIn addition, I served on a tiger team designed to identify and resolve General Ledger post', 'signed to identify and resolve General Ledger posting differences and supported the development of\\n$360B in accounting adjustments allowing for the fi', '360B in accounting adjustments allowing for the first successful fiscal year-end close in 2012.\\nThese actions also allowed for the reconciliation and ', 'e actions also allowed for the reconciliation and closure of fiscal year 2010 and 2011 accounting adjustments ensuring that all DEAMS\\nfiscal year-end ', 'justments ensuring that all DEAMS\\nfiscal year-end requirements were completed.\\nThese actions were recognized as critical to the successful review repo', 'cognized as critical to the successful review report issued by the Air Force Operational Test and Evaluation Center\\n(AFOTEC) resulting in the Air Forc', 'aluation Center\\n(AFOTEC) resulting in the Air Force receiving the authority to continue with the deployment of DEAMS.\\nCompany Name\\n \\nApril 2010\\n \\nto \\n', 'loyment of DEAMS.\\nCompany Name\\n \\nApril 2010\\n \\nto \\nJune 2011\\n \\nResource Advisor\\n \\nCity\\n \\n, \\nState\\nIn this position as Resource Advisor for the 1st Air ', 'this position as Resource Advisor for the 1st Air Communications Operation Squadron (1ACOS) I was responsible for providing\\nfinancial advice and decis', 'sponsible for providing\\nfinancial advice and decision support to the Commander.\\nI was responsible for coordinating a $4.6M budget between four funding', 'r coordinating a $4.6M budget between four funding sources.\\nI coordinated with USAFE Directorate of Intelligence (USAFE/A2), USAFE Directorate of Air ', 'Intelligence (USAFE/A2), USAFE Directorate of Air and Space Operations (USAFE/A3),\\nUSAFE Directorate of Communications (USAFE/A6) and the 435th Air Gr', ' of Communications (USAFE/A6) and the 435th Air Ground Operations Wing to ensure 1ACOS meets its mission\\nrequirements.\\nI consistently managed three se', 'sion\\nrequirements.\\nI consistently managed three separate timelines for providing budget/unfunded requirements, providing documentation and various rep', 'uirements, providing documentation and various reports in\\nthe required format for each organization.\\nI discussed the outcome of the Group and Director', '\\nI discussed the outcome of the Group and Directorate budget meetings providing feedback the same day to the Flight Chiefs and CC any\\nissue which affe', 'y to the Flight Chiefs and CC any\\nissue which affects 1ACOS directly.\\nI monitored the Defense Travel System (DTS) daily and identify orders and author', ' System (DTS) daily and identify orders and authorizations needing approval and provided notification to the\\nappropriate Reviewing Officials and Appro', 'n to the\\nappropriate Reviewing Officials and Approvers.\\nUtilizing DTS and the General Accounting and Finance System I reviewed status reports to ident', ' Finance System I reviewed status reports to identify anomalies in obligations and have\\nidentified those orders which require correction prior to paym', 'hose orders which require correction prior to payment.\\nI provided Government Purchase Card (GPC) status reports the same day they are requested and in', 'tus reports the same day they are requested and in addition, communicated with the\\nappropriate cardholders when changes were required to support their', 'olders when changes were required to support their program.\\nI identified cardholder training requirements and monitored these requirements to ensure a', 'ments and monitored these requirements to ensure all required training was completed in support of\\nthis mission critical program.\\nI developed guidance', 'his mission critical program.\\nI developed guidance for the GPC cardholders on procedures for requesting training for the squadron and in addition I pr', 'ing training for the squadron and in addition I provided answers to\\ncardholder questions on unique or non-standard issues/concerns.\\nAssumed the role o', 'r non-standard issues/concerns.\\nAssumed the role of the Billing Official during my final rating period and completed a self inspection of the program ', 'od and completed a self inspection of the program for the Management\\nControl Program, zero findings.\\nDuring yearly audit by 700th CONS received zero f', '\\nDuring yearly audit by 700th CONS received zero findings.\\nCompany Name\\n \\nJuly 2008\\n \\nto \\nApril 2010\\n \\nStaff Accountant\\n \\nCity\\n \\n, \\nState\\nIn my positi', '\\n \\nStaff Accountant\\n \\nCity\\n \\n, \\nState\\nIn my position as the Staff Accountant for HQ USAFE I was responsible for providing accounting and financial ove', 'onsible for providing accounting and financial oversight and advice to\\ncustomers throughout the Command in support of the USAFE Comptroller.\\nI was res', 'and in support of the USAFE Comptroller.\\nI was responsible for performing ongoing analysis of financial programs to identify negative trends and weakn', 'ial programs to identify negative trends and weaknesses, ensured specific\\nweaknesses were corrected, and determined whether systemic or repeat issues ', ' and determined whether systemic or repeat issues were identified and adequately addressed.\\nI was required to apply a comprehensive knowledge of analy', 'quired to apply a comprehensive knowledge of analysis/reporting requirements and data produced to resolve these issues.\\nIn collaboration with DFAS Eur', 'solve these issues.\\nIn collaboration with DFAS Europe, developed an automated tool that identifies duplicate obligations by comparing records in the\\na', 'uplicate obligations by comparing records in the\\naccounting system to the contracting system and provided notification to the funds manager for review', 'vided notification to the funds manager for review and resolution.\\nThis tool eliminated hours of manual research and results allowed HQ USAFE to deobl', 'ual research and results allowed HQ USAFE to deobligate over $5M in duplicate obligations.\\nI was responsible for establishing various performance metr', 'ponsible for establishing various performance metrics which ensured effective and efficient use of USAFE financial resources.\\nI supported the USAFE/FM', 'SAFE financial resources.\\nI supported the USAFE/FMA Financial metrics program by collaborating with DFAS Limestone in the development of an automated ', 'DFAS Limestone in the development of an automated tool\\nthat provided senior leaders with visibility to any USAFE unit that is not in compliance with t', 'to any USAFE unit that is not in compliance with the established rules and regulations related to\\nthe GPC.\\nThis tool provides management reports that ', 'e GPC.\\nThis tool provides management reports that are used to populate the monthly metric charts which are briefed by the USAFE/FMA.\\nThis tool provide', 'ch are briefed by the USAFE/FMA.\\nThis tool provided the capability for USAFE/FMA to collaborate with USAFE Contracting and develop/deploy joint guidan', ' USAFE Contracting and develop/deploy joint guidance that supports\\nthe established Air Force Instruction mandating card suspension for card holders wh', 'tion mandating card suspension for card holders who are not in compliance with required reservation of\\nfunds in the entitlement system in support of t', 'of\\nfunds in the entitlement system in support of the GPC.\\nI identified and resolved a problem with five GPC accounts that had been rejecting during th', 'ive GPC accounts that had been rejecting during the automated interface process each month.\\nMy research revealed that these accounts were rejecting fo', 'rch revealed that these accounts were rejecting for invalid paying station and required manual intervention by both Wing and\\nDFAS personnel.\\nThis not ', 'vention by both Wing and\\nDFAS personnel.\\nThis not only created rework, it delayed the payment of the invoices.\\nI partnered with DFAS Denver, corrected', ' invoices.\\nI partnered with DFAS Denver, corrected the records in the Access On-Line accounts eliminating the error condition.\\nI identified a method t', 'ating the error condition.\\nI identified a method to deliver one-on-one training in support of the USAFE deployment of the Open Document Analysis (ODA)', 'AFE deployment of the Open Document Analysis (ODA) tool in\\nFMSuite.\\nBy utilizing Defense Connect Online I \\nprovided training remotely, virtually elimi', 'ine I \\nprovided training remotely, virtually eliminating the need to expend funds on Temporary Duty (TDY)\\ntravel.\\nThe results of this training produce', '(TDY)\\ntravel.\\nThe results of this training produced results that went well above expectations and were noted by the ODA Program Management Office.\\nCom', 're noted by the ODA Program Management Office.\\nCompany Name\\n \\nJanuary 2007\\n \\nto \\nJuly 2009\\n \\nChief, Reports Branch. Accounts Maintenance and Control\\n ', 'Reports Branch. Accounts Maintenance and Control\\n \\nCity\\n \\n, \\nState\\nIn my position as Chief of the Reports Branch in Accounts Maintenance & Control (AM', 'ports Branch in Accounts Maintenance & Control (AM&C) I was responsible for ensuring the\\ndevelopment and standardization of various managerial and sys', ' and standardization of various managerial and system reports.\\nI was responsible for the completeness and accuracy of weekly, monthly, quarterly, semi', 's and accuracy of weekly, monthly, quarterly, semi-annual, and annual reports.\\nMy branch monitored errors in the General Accounting and Finance System', 'rrors in the General Accounting and Finance System (GAFS/BQ) and ensured corrective actions were\\naccomplished.\\nI also ensured fund balances were recon', 'omplished.\\nI also ensured fund balances were reconciled and reports were verified prior to release to base activities and higher headquarters.\\nLimesto', 'o base activities and higher headquarters.\\nLimestone reorganized under the High Performing Organization (HPO) in January 2007 and at that time I was r', 'ion (HPO) in January 2007 and at that time I was reassigned to AM&C, a\\nDirectorate which previously did not exist.\\nMy challenge during that time was t', 'did not exist.\\nMy challenge during that time was to staff my branch, implement an aggressive training schedule, and ensure the continuity of financial', 'g schedule, and ensure the continuity of financial\\nreporting was maintained.\\nAs we transitioned into the HPO we continued defining the missions and fu', ' the HPO we continued defining the missions and functions for AM&C for the entire network.\\nI participated in biweekly conference calls with Standards ', 'pated in biweekly conference calls with Standards and Compliance in an effort to define missions and functions for AM&C.\\nWorked with management in det', ' functions for AM&C.\\nWorked with management in determining FTEs needed for the branch.\\nI was responsible for developing meaningful performance standar', 'ible for developing meaningful performance standards for my employees since this branch and its functions did not previously\\nexist.\\nLimestone POC for ', 'tions did not previously\\nexist.\\nLimestone POC for an initiative to eliminate suspense accounts throughout the agency.\\nIdentified suspense accounts not', 'ghout the agency.\\nIdentified suspense accounts not initially targeted, formulated strategies to eliminate accounts or requested waivers, and participa', 'inate accounts or requested waivers, and participated in plans\\nto modify processes using suspense accounts, such as the interfund suspense account.\\nTh', \"counts, such as the interfund suspense account.\\nThese actions provided initial progress towards meeting the Department of Treasury's mandate to discon\", \"ing the Department of Treasury's mandate to discontinue suspense accounts by\\nFebruary 2009.\\nWorked with staff to reduce reconciliations from $6.9 mill\", 'ith staff to reduce reconciliations from $6.9 million in February 2007 to $1.1 million in August, accomplished this despite loss in\\nexperienced person', 'complished this despite loss in\\nexperienced personnel and realigning resources to support critical initiatives in Accounts Payable.\\nI orchestrated the', 'nitiatives in Accounts Payable.\\nI orchestrated the transition of reporting requirements for the Transportation Financial Management System (TFMS) work', 'sportation Financial Management System (TFMS) workload from DFAS\\nOmaha to Limestone.\\nAfter transition to Limestone encouraged staff responsible for th', 'n to Limestone encouraged staff responsible for these reports to streamline the processes.\\nStaff automated a completely manual, time consuming process', 'omated a completely manual, time consuming process, thus eliminating potential key stroke errors and manually validating numerous\\nspreadsheets and lis', ' manually validating numerous\\nspreadsheets and listings.\\nContributor to Federal Managers Financial Integrity Act (FMFIA) Compliance Review and establi', 'ntegrity Act (FMFIA) Compliance Review and establishment of assessable units.\\nIdentified inconsistencies in information provided by staff on foreign c', 'cies in information provided by staff on foreign currency fluctuation adjustments.\\nPersisted in getting higher level review of regulatory and policy g', 'ing higher level review of regulatory and policy guidance.\\nReport of foreign currency fluctuation is now consistently accurate.\\nCompany Name\\n \\nFebruar', ' now consistently accurate.\\nCompany Name\\n \\nFebruary 2000\\n \\nto \\nJanuary 2007\\n \\nChief, Accounts Payable Branch\\n \\nCity\\n \\n, \\nState\\nAs Chief Of Accounts Pa', 'e Branch\\n \\nCity\\n \\n, \\nState\\nAs Chief Of Accounts Payable \\nI was responsible for the overall management of a branch consisting of over 120 employees.\\nMy', 't of a branch consisting of over 120 employees.\\nMy four first line supervisors were responsible for establishing priorities, schedules, and work assig', 'establishing priorities, schedules, and work assignments ensuring changes in workload are\\naccounted for to minimize the impact on normal office operat', 'for to minimize the impact on normal office operations.\\nWe consistently reviewed these areas and made necessary personnel moves based on shifting prio', 'e necessary personnel moves based on shifting priorities.\\nThis was \\nextremely important during the DFAS Denver directed database consolidations and wi', 'FAS Denver directed database consolidations and with the assumption of the Air National Guard\\nworkload.\\nWorkload increased rapidly while staffing incr', 'ad.\\nWorkload increased rapidly while staffing increased gradually, which dictated frequent priority changes and personnel moves.\\nI also worked closely', 'changes and personnel moves.\\nI also worked closely with the Major Commands supported by DFAS Limestone strengthening our partnership when workload spi', 'ne strengthening our partnership when workload spikes\\nnegatively impacted our customers.\\nIn December 2004, our overaged invoice percentage was nearing', ' 2004, our overaged invoice percentage was nearing 25% and we had a backlog of vendor pay documents exceeding 30,000.\\nBy working with the DFAS Command', 'exceeding 30,000.\\nBy working with the DFAS Command Client Executives and the Major Command Comptrollers, I was instrumental in forming a strategy\\nthat', 'ers, I was instrumental in forming a strategy\\nthat included soliciting Air Force personnel assistance in document processing, identification of \"must ', 'e in document processing, identification of \"must pay now\" bills, and the formation of\\nspecial action response teams dedicated to responding to our cu', \"n response teams dedicated to responding to our customer's most urgent requirements.\\nAs a result of these efforts, in a three month period, we were ab\", 'these efforts, in a three month period, we were able to reduce our overaged invoice percentage by 19% and our backlog of\\ndocuments to no documents ove', '% and our backlog of\\ndocuments to no documents over 20 days old thereby minimizing the adverse impact on customer funds.\\nI was responsible for providi', \"t on customer funds.\\nI was responsible for providing personnel feedback sessions quarterly and prepared supervisory appraisals of employees' performan\", \"red supervisory appraisals of employees' performance and\\npotential for advancement.\\nPartnering with the management staff and employees, I was instrume\", 'the management staff and employees, I was instrumental in establishing Employee Performance Plans that linked employee\\nperformance to established DFAS', 'at linked employee\\nperformance to established DFAS Strategies and Balance Scorecard goals.\\nIn this position as a supervisory accountant I was responsi', 'osition as a supervisory accountant I was responsible for performing ongoing analysis of the Vendor Pay workflow and production\\nto identify negative t', 'Pay workflow and production\\nto identify negative trends and weaknesses, ensure specific weaknesses have been corrected, and determine whether systemic', 'ave been corrected, and determine whether systemic or repeat\\nissues have been identified and adequately addressed.\\nI was required to apply a comprehen', 'ely addressed.\\nI was required to apply a comprehensive knowledge of analysis/reporting requirements, work processes, vendor pay system structures, and', ' work processes, vendor pay system structures, and\\ndata produced to resolve these issues.\\nUtilizing my expertise with Louis II data retrieval software', 'my expertise with Louis II data retrieval software, I produced ad-hoc data queries for in-house and external use by our customers.\\nThese retrievals we', 'external use by our customers.\\nThese retrievals were designed to reduce the man- hours necessary to perform complex finance and accounting functions b', 'perform complex finance and accounting functions by DFAS and Air\\nForce personnel.\\nI was responsible for the budget resources necessary to operate the ', 'for the budget resources necessary to operate the branch.\\nIn this capacity, I prepared budget over execution justifications, plan and monitor overtime', 'xecution justifications, plan and monitor overtime costs, and control supply purchases to ensure the\\nmost cost efficient operation possible.\\nI was req', '\\nmost cost efficient operation possible.\\nI was required to respond to inquiries from various sources, which include, but are not limited to, vendors, ', ', which include, but are not limited to, vendors, DFAS management, accounting\\nliaison offices, resource advisors, and other DFAS field sites.\\nThese in', 'rce advisors, and other DFAS field sites.\\nThese inquiries required my ability to relay technical aspects of systems deficiencies to customers who are ', 'ects of systems deficiencies to customers who are not familiar with our operation.\\nI participated in video teleconferences, conference calls, and brie', ' video teleconferences, conference calls, and briefings designed to address customer and DFAS management requirements.\\nI was called upon to explain, i', \"ment requirements.\\nI was called upon to explain, in laymen's terms, DFAS policy and procedures with regards to delays in payment due to various reason\", 'regards to delays in payment due to various reasons.\\nI responded to various audit reports and studies; ensuring senior management and audit personnel,', 's; ensuring senior management and audit personnel, understand particular situations within the\\nVendor Pay business process that result in these findin', 'r Pay business process that result in these findings.\\nCompany Name\\n \\nFebruary 1999\\n \\nto \\nFebruary 2000\\n \\nChief, Recon and Reports Branch\\n \\nCity\\n \\n, \\nS', '00\\n \\nChief, Recon and Reports Branch\\n \\nCity\\n \\n, \\nState\\nIn my position as Chief, Vendor Pay Reports and Recon Branch, I exercised supervision (either d', 'nd Recon Branch, I exercised supervision (either directly or indirectly) over 22 employees\\nprimarily in the \"525\" series in grades ranging from GS-5 t', ' in the \"525\" series in grades ranging from GS-5 through GS-8.\\nThis responsibility also included supervision of the German local national workers assi', 'ervision of the German local national workers assigned to my duty section.\\nI was responsible for planning, directing, and supervising the activities o', 'nning, directing, and supervising the activities of the work force in the review, interpretation, processing, and\\nreconciliation of vendor pay and acc', 'ocessing, and\\nreconciliation of vendor pay and accounting data and the production of timely and accurate financial statement report requirements.\\nI pa', 'rate financial statement report requirements.\\nI participated in the development of branch policies continually reviewing and evaluating the organizati', 'ontinually reviewing and evaluating the organizational operations, work distribution, and\\nprocedures.\\nI coordinated the activities of the assigned fun', '.\\nI coordinated the activities of the assigned functions with those of other organizations to obtain the most effective correlation of financial\\ndata.', ' the most effective correlation of financial\\ndata.\\nDirected and provided technical guidance to subordinates in the assigned area.\\nAssured the timeline', 'dinates in the assigned area.\\nAssured the timeliness and accuracy of assigned workload.\\nPlanned, organized, directed, coordinated, and reviewed the wo', \"anized, directed, coordinated, and reviewed the work of subordinate's sections ensuring the mission and functions of the\\ndivision were carried out.\\nI \", 'and functions of the\\ndivision were carried out.\\nI managed and realigned resources, conducted program analyses, and made decisions in accordance with u', ' analyses, and made decisions in accordance with unit cost principles, outputs,\\ntargets, and changing budgetary constraints.\\nI participated in long ra', 'g budgetary constraints.\\nI participated in long range planning, goal setting, and evaluating the subordinate staff.\\nInterpreted and clarified branch p', 'ordinate staff.\\nInterpreted and clarified branch policies and resolved operational problems.\\nEnsured efficient utilization and professional developmen', ' efficient utilization and professional development of my staff.\\nI was expected to provide reasonable assurance that operations were conducted in comp', 'e assurance that operations were conducted in compliance with applicable laws and that funds,\\nproperty, and other assets were safeguarded against wast', 'ty, and other assets were safeguarded against waste, loss, unauthorized use, or misappropriation.\\nI ensured continuing and affirmative application and', 'ensured continuing and affirmative application and support of DoD and DFAS policy concerning the equal opportunity and affirmative\\naction programs.\\nEn', 'al opportunity and affirmative\\naction programs.\\nEnsured personnel management within organizational entity under my supervision was accomplished withou', 'ntity under my supervision was accomplished without regard to race, color, religion,\\nsex, age, national origin, or handicap.\\nI kept abreast of develop', 'nal origin, or handicap.\\nI kept abreast of developments, policy issuance, and other similar material in the equal opportunity field and fully supporte', ' in the equal opportunity field and fully supported the DoD and\\nDFAS Equal Opportunity Program.\\nI was responsible and accountable for the safety and h', 's responsible and accountable for the safety and health of my subordinates.\\nI ensured personnel were trained to work safely.\\nI enforced safety and hea', ' trained to work safely.\\nI enforced safety and health rules, corrected unsafe or unhealthy acts and unsafe or unhealthy mechanical or physical conditi', 'unsafe or unhealthy mechanical or physical conditions, investigated\\nmishaps and tool other actions necessary to ensure the safety and health of my emp', 'ecessary to ensure the safety and health of my employees.\\nCompany Name\\n \\nJune 1995\\n \\nto \\nFebruary 1999\\n \\nChief, Accounts Payable Branch\\n \\nCity\\n \\n, \\nSt', '99\\n \\nChief, Accounts Payable Branch\\n \\nCity\\n \\n, \\nState\\nI was responsible for establishing priorities, schedules, and work assignments ensuring changes ', ' schedules, and work assignments ensuring changes in workload are accounted for to minimize\\nthe impact on normal office operations.\\nThis was important', 'ct on normal office operations.\\nThis was important during the DFAS Denver directed workload realighment to the Field Sites servicing our customers by ', 'ent to the Field Sites servicing our customers by Major Command.\\nWorkload increased which dictated frequent priority changes and personnel moves.\\nI al', 'requent priority changes and personnel moves.\\nI also worked closely with the Major Commands supported by DFAS Limestone strengthening our partnership ', 'd by DFAS Limestone strengthening our partnership when workload spikes\\nnegatively impacted our customers.\\nI was responsible for providing personnel fe', \"mers.\\nI was responsible for providing personnel feedback sessions quarterly and preparedsupervisory appraisals of employees' performance and\\npotential\", \"appraisals of employees' performance and\\npotential for advancement.\\nAs a supervisory accountant I was responsible for performing ongoing analysis of t\", 's responsible for performing ongoing analysis of the Vendor Pay workflow and production.\\nI identified negative trends and weaknesses, ensured specific', 'd negative trends and weaknesses, ensured specific weaknesses were corrected, and determine whether systemic or repeat issues\\nwere identified and adeq', 'systemic or repeat issues\\nwere identified and adequately addressed.\\nI was required to apply a comprehensive knowledge of analysis/reporting requiremen', 'hensive knowledge of analysis/reporting requirements, work processes, vendor pay system structures, and\\ndata produced to resolve these issues.\\nUtilizi', 'and\\ndata produced to resolve these issues.\\nUtilizing my knowledge with Louis II data retrieval software, I produced ad-hoc data queries for in-house a', 'are, I produced ad-hoc data queries for in-house and external use by our\\ncustomers.\\nThese retrievals are all designed to reduce the man- hours necessa', ' are all designed to reduce the man- hours necessary to perform complex finance and accounting functions by DFAS and\\nAir Force personnel.\\nI was respon', 'ions by DFAS and\\nAir Force personnel.\\nI was responsible for the budget resources necessary to operate the branch.\\nIn this capacity, I prepared budget ', 'e the branch.\\nIn this capacity, I prepared budget over execution justifications, plan and monitor overtime costs, and control supply purchases to ensu', 'ertime costs, and control supply purchases to ensure the\\nmost cost efficient operation possible.\\nI was required to respond to inquiries from various s', 'as required to respond to inquiries from various sources, which include, but are not limited to, vendors, DFAS management, accounting\\nliaison offices,', 'dors, DFAS management, accounting\\nliaison offices, resource advisors, and other DFAS field sites.\\nThese inquiries require my ability to relay technica', 'ese inquiries require my ability to relay technical aspects of systems deficiencies to customers who are not familiar with our operation.\\nI participat', ' are not familiar with our operation.\\nI participated in video teleconferences, conference calls, and briefings designed to address customer and DFAS m', \" briefings designed to address customer and DFAS management requirements.\\nI was often called upon to explain, in laymen's terms, DFAS policy and proce\", \" explain, in laymen's terms, DFAS policy and procedures with regards to delays in payment due to various\\nreasons.\\nI was required to respond to various\", 'ious\\nreasons.\\nI was required to respond to various audit reports and studies; ensuring senior management and audit personnel, understand particular\\nsi', 'ment and audit personnel, understand particular\\nsituations within the Vendor Pay business process that result in these findings.\\nI was hand selected b', 'at result in these findings.\\nI was hand selected by the Field Site Director and Vendor Pay Site Manager to represent DFAS Limestone on a team comprise', 'ger to represent DFAS Limestone on a team comprised of\\nrepresentatives from all DFAS Denver field sites to provide training to our Air Force base leve', 'tes to provide training to our Air Force base level Resource Advisors.\\nDuring a five week period, I provided \"Boot Camp\" training to over 400 base lev', 'provided \"Boot Camp\" training to over 400 base level personnel ensuring resource advisors were familiar with\\nthe DFAS structure and mission requiremen', 'iar with\\nthe DFAS structure and mission requirements related to funds management.\\nCompany Name\\n \\nJune 1994\\n \\nto \\nJune 1995\\n \\nAccountant, Network Assis', 'e 1994\\n \\nto \\nJune 1995\\n \\nAccountant, Network Assistant Team\\n \\nCity\\n \\n, \\nState\\nAs a member of the Network Assistance Team, I was required to have an ex', 'work Assistance Team, I was required to have an extensive working knowledge of DoD accounting systems,\\ntheory, policy, and procedures.\\nI was consisten', 's,\\ntheory, policy, and procedures.\\nI was consistently called upon to develop and implement procedures consistent with DoD regulations.\\nCoordinated wit', 's consistent with DoD regulations.\\nCoordinated with DFAS Denver and the Omaha Field Site on the consolidation of the first geographically separated De', 'olidation of the first geographically separated Defense Accounting\\nOffice into DFAS.\\nIn my position as a member of the Network Assistance Team I was r', 'as a member of the Network Assistance Team I was required, upon arrival at each base level Defense Accounting Office\\n(DAO) to provide an in-brief.\\nThi', 'ccounting Office\\n(DAO) to provide an in-brief.\\nThis briefing identified team members, the purpose of the visit, goals, and responsibilities.\\nUpon comp', ' the visit, goals, and responsibilities.\\nUpon completion of the assignment, provided a written and oral out-brief outlining the team accomplishments d', 'ral out-brief outlining the team accomplishments during the visit.\\nI provided recommendations to preclude recurring problems and to prepare the organi', 'clude recurring problems and to prepare the organization for consolidation.\\nCompany Name\\n \\nJune 1993\\n \\nto \\nJune 1994\\n \\nSupervisor, Accounts Control Br', '\\n \\nto \\nJune 1994\\n \\nSupervisor, Accounts Control Branch\\n \\nCity\\n \\n, \\nState\\nI directed/supervised the accomplishment of all financial reports and stateme', 'ccomplishment of all financial reports and statements.\\nI directed/supervised the accomplishment of all financial reports and statements.\\nI was respons', 'll financial reports and statements.\\nI was responsible for the completeness and accuracy of weekly, monthly, quarterly, semi-annual, and annual report', 'monthly, quarterly, semi-annual, and annual reports.\\nMonitored errors in the General Accounting and Finance System (GAFS/BQ) and ensured corrective ac', 'Finance System (GAFS/BQ) and ensured corrective actions were accomplished.\\nI also ensured fund balances were reconciled to the appropriate audit listi', 'ces were reconciled to the appropriate audit listings and verified reports prior to release to base activities and\\nhigher headquarters.\\nI furnished ac', 'activities and\\nhigher headquarters.\\nI furnished accounting data to base organizations often interpreting and analyzing the data to help funds managers', 'ting and analyzing the data to help funds managers resolve problems and\\nmanage their programs more effectively.\\nI attended Major Command (MAJCOM) and ', 'ffectively.\\nI attended Major Command (MAJCOM) and Headquarters level workshops to participate and contribute to accounting policy and system\\nchanges.\\n', 'ntribute to accounting policy and system\\nchanges.\\nI provided professional assistance to Data Automation relevant to processing of accounting and finan', 'ion relevant to processing of accounting and finance data, interpreting deficiencies in\\nsoftware based on output products and system related problems.', 'ed on output products and system related problems.\\nI utilized my working knowledge of commercial and government accounting system principles and knowl', ' government accounting system principles and knowledge of Processing Centers (PCs)\\nto review, verify, analyze, and evaluate accounting and finance ope', ', analyze, and evaluate accounting and finance operations.\\nWhile serving as Chief, Account Control I ensured areas of concern were addressed, concentr', ' ensured areas of concern were addressed, concentrating on problem areas related to the\\ndatabase.\\nI analyzed computer output products to determine pro', 'analyzed computer output products to determine processing deficiencies.\\nThey included, but were not limited to, the Open Document Listing (ODL), Opera', 'limited to, the Open Document Listing (ODL), Operating Budget Ledger (OBL), Allotment Ledger (AL), and\\nthe Accounting and Finance Workload Information', 'nd\\nthe Accounting and Finance Workload Information Management System (A&F WIMS) Extract list.\\nI provided technical assistance related to policy and pr', 'ided technical assistance related to policy and procedural.\\nchanges required as a result of the impending base closure.\\nAnalyzed/developed and recomme', 'nding base closure.\\nAnalyzed/developed and recommended improved training procedures enabling better use of system procedures ensuring governing\\ndirect', 'use of system procedures ensuring governing\\ndirectives were followed.\\nI evaluated accuracy of accounting records prior to fiscal year closeout ensurin', 'ting records prior to fiscal year closeout ensuring the Accounting and Finance Officer could certify their\\naccuracy as required by regulation.\\nExamine', ' their\\naccuracy as required by regulation.\\nExamined accounting transactions and documents to ensure they conformed to established accounting policy an', 'they conformed to established accounting policy and principles.\\nCoordinated and directed fiscal year end conversion for the GAFS and Integrated Accoun', ' end conversion for the GAFS and Integrated Accounts Payable System (IAPS).\\nEducation\\nNorthern Maine Community College\\n \\n1994\\n \\nAssociate\\n \\n: \\nAccount', ' Community College\\n \\n1994\\n \\nAssociate\\n \\n: \\nAccounting\\n \\nCity\\n \\n, \\nState\\n \\n, \\nUSA\\nEmphasis in Business\\n1994\\n \\nAssociates\\n \\n: \\nAccounting\\n \\nCity\\n \\n, \\nSt', 's\\n1994\\n \\nAssociates\\n \\n: \\nAccounting\\n \\nCity\\n \\n, \\nState\\n \\n, \\nUSA\\n \\nGPA: \\nGPA: 3.41\\nAccounting GPA: 3.41 174 Hours, Quarter\\nAttended Husson College, majo', '1 174 Hours, Quarter\\nAttended Husson College, major Accounting 78 semester hours toward Bachelors degree.\\nProfessional Military Comptroller School, 6w', 'gree.\\nProfessional Military Comptroller School, 6wk, 4-98; Managerial Accounting I, 09-98; Interested-Based Bargaining Training for Management,\\n24hrs,', 'd-Based Bargaining Training for Management,\\n24hrs, 09-01; Auditing Methods and Concepts 09-98; Organizational Leadership, 32hrs, 07-03; Management Dev', 'izational Leadership, 32hrs, 07-03; Management Development II, 32hrs, 07-03.\\nCertifications\\nCertified Defense Financial Manager, CDFM, May 2005\\nIntere', 'd Defense Financial Manager, CDFM, May 2005\\nInterests\\nAmerican Society Of Military Comptrollers\\nAdditional Information\\nSkills\\nAccounting; General Acco', 'tional Information\\nSkills\\nAccounting; General Accounting; Accounts Payable; Program Management.\\n']\n"
     ]
    }
   ],
   "source": [
    "tst = listed_chunked_texts[\"ACCOUNTANT\"][0].get_chunks_contents()\n",
    "print(tst)"
   ]
  },
  {
   "cell_type": "code",
   "execution_count": 33,
   "id": "7a66f7ae",
   "metadata": {},
   "outputs": [],
   "source": [
    "# response = ollama.embed(model='dengcao/Qwen3-Embedding-4B:Q5_K_M', input=tst)"
   ]
  },
  {
   "cell_type": "markdown",
   "id": "93bb9d43",
   "metadata": {},
   "source": [
    "## 2. Vector Database Integration\n",
    "- Store embeddings: Save generated embeddings in a vector database.\n",
    "- Efficient retrieval: Implement top‑K similarity search for queries."
   ]
  },
  {
   "cell_type": "code",
   "execution_count": 59,
   "id": "2f14d16e",
   "metadata": {},
   "outputs": [
    {
     "name": "stdout",
     "output_type": "stream",
     "text": [
      "Hello :D\n"
     ]
    }
   ],
   "source": [
    "print(\"Hello :D\")"
   ]
  },
  {
   "cell_type": "markdown",
   "id": "dbc76534",
   "metadata": {},
   "source": [
    "## 3. Retrieval-Augmented Generation (RAG) Chatbot\n",
    "- Job description input: Accept a text description of the job role.\n",
    "- Retrieve relevant chunks: Perform vector search to find top resume chunks.\n",
    "- LLM-based matching: Use an LLM to generate conversational answers about\n",
    "candidate fit, citing retrieved content.\n",
    "- Conversational interface: Support follow-up questions for deeper insights."
   ]
  },
  {
   "cell_type": "code",
   "execution_count": 3,
   "id": "8eb0e089",
   "metadata": {},
   "outputs": [
    {
     "name": "stdout",
     "output_type": "stream",
     "text": [
      "Hello :D\n"
     ]
    }
   ],
   "source": [
    "print(\"Hello :D\")"
   ]
  },
  {
   "cell_type": "markdown",
   "id": "316d1dc4",
   "metadata": {},
   "source": [
    "# Optional Bonus Features\n",
    "## A. Web User Interface\n",
    "- Frontend (Bonus): Implement a simple web UI for file upload, job description entry, and\n",
    "chat interaction.\n",
    "- Tech Stack: Next.js with TypeScript\n",
    "- Hosting: Vercel (Hobby/Free Tier)"
   ]
  },
  {
   "cell_type": "code",
   "execution_count": 4,
   "id": "809e7167",
   "metadata": {},
   "outputs": [
    {
     "name": "stdout",
     "output_type": "stream",
     "text": [
      "Hello :D\n"
     ]
    }
   ],
   "source": [
    "print(\"Hello :D\")"
   ]
  },
  {
   "cell_type": "markdown",
   "id": "3196e4ec",
   "metadata": {},
   "source": [
    "## B. SQL-Based Metadata Search\n",
    "- Extract metadata: Tag resumes with structured metadata (skills, titles, experience).\n",
    "- Metadata storage: Save tags in a relational database (e.g., PostgreSQL alongside\n",
    "vector store).\n",
    "- Metadata API: Expose an endpoint for SQL queries (e.g., SELECT * FROM\n",
    "resume_metadata WHERE skills @> ARRAY['TypeScript'] AND\n",
    "years_experience >= 5)."
   ]
  },
  {
   "cell_type": "code",
   "execution_count": 5,
   "id": "9f34a500",
   "metadata": {},
   "outputs": [
    {
     "name": "stdout",
     "output_type": "stream",
     "text": [
      "Hello :D\n"
     ]
    }
   ],
   "source": [
    "print(\"Hello :D\")"
   ]
  }
 ],
 "metadata": {
  "kernelspec": {
   "display_name": ".venv",
   "language": "python",
   "name": "python3"
  },
  "language_info": {
   "codemirror_mode": {
    "name": "ipython",
    "version": 3
   },
   "file_extension": ".py",
   "mimetype": "text/x-python",
   "name": "python",
   "nbconvert_exporter": "python",
   "pygments_lexer": "ipython3",
   "version": "3.11.9"
  }
 },
 "nbformat": 4,
 "nbformat_minor": 5
}
